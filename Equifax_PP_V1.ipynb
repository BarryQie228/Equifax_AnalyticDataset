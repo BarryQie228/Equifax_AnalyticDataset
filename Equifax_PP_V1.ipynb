{
 "cells": [
  {
   "cell_type": "markdown",
   "id": "3e3414b4-a9d7-4c26-9291-ab796f408e21",
   "metadata": {},
   "source": [
    "## Payment Priority - Insights from Equifax Analytics Dataset"
   ]
  },
  {
   "cell_type": "markdown",
   "id": "1a182600-adad-47c1-94d7-5b219dc2c716",
   "metadata": {},
   "source": [
    "### Author: Barry Zihao Qie"
   ]
  },
  {
   "cell_type": "code",
   "execution_count": null,
   "id": "c37c3380",
   "metadata": {},
   "outputs": [],
   "source": [
    "'''\n",
    "import sys\n",
    "print(sys.executable)\n",
    "print(sys.version)\n",
    "print(sys.version_info)\n",
    "'''"
   ]
  },
  {
   "cell_type": "code",
   "execution_count": null,
   "id": "249304ce",
   "metadata": {},
   "outputs": [],
   "source": [
    "import os\n",
    "\n",
    "path=os.getcwd()\n",
    "\n",
    "print(path)"
   ]
  },
  {
   "cell_type": "code",
   "execution_count": null,
   "id": "eaedc301-a807-4f45-8de6-1f1e23870eb4",
   "metadata": {},
   "outputs": [],
   "source": [
    "os.chdir('C:\\\\Users\\\\zihao\\\\OneDrive\\\\Desktop\\\\Citi Work\\\\ABS Research\\\\1010 XMLquery\\\\Equifax Analytics Dataset')\n",
    "\n",
    "path =os.getcwd()\n",
    "\n",
    "print(path)"
   ]
  },
  {
   "cell_type": "code",
   "execution_count": null,
   "id": "e4eddcd4-424c-4626-8bc1-3b480d20540e",
   "metadata": {},
   "outputs": [],
   "source": [
    "# import statements\n",
    "import pandas as pd\n",
    "import numpy as np\n",
    "import time\n",
    "from datetime import datetime\n",
    "import matplotlib.pyplot as plt\n",
    "from matplotlib import ticker\n",
    "import matplotlib.dates as mdates\n",
    "import seaborn as sns\n",
    "\n",
    "import py1010\n",
    "from dateutil.relativedelta import relativedelta, FR"
   ]
  },
  {
   "cell_type": "code",
   "execution_count": null,
   "id": "832f11d1-f86d-40fd-886e-9c57cbef3e93",
   "metadata": {},
   "outputs": [],
   "source": [
    "pd.set_option('display.max_rows',None)\n",
    "pd.set_option('display.max_columns',None)"
   ]
  },
  {
   "cell_type": "code",
   "execution_count": null,
   "id": "485f7c01-6397-4727-8644-2b17c8cc453c",
   "metadata": {},
   "outputs": [],
   "source": [
    "cur_month= datetime.now().replace(day=1).strftime(format=\"%#m/%Y\")\n",
    "prev_month = (datetime.now().replace(day=1) + relativedelta(months=-1)).strftime(format=\"%#m/%Y\")\n",
    "print(cur_month)\n",
    "print(prev_month)"
   ]
  },
  {
   "cell_type": "code",
   "execution_count": null,
   "id": "9213ffac-a87b-4777-aff3-ebe47c153106",
   "metadata": {},
   "outputs": [],
   "source": [
    "gateway  = \"https://www2.1010data.com/cgi-bin/gw\"\n",
    "tablename = \"pub.fin.efxas.client.v3.v3_panel_data\"\n",
    "username = \"citi_zqie\"\n",
    "password = \"Barry0228Qzh\""
   ]
  },
  {
   "cell_type": "code",
   "execution_count": null,
   "id": "a1bd2060-de88-4b3d-810d-500b1fa0889a",
   "metadata": {},
   "outputs": [],
   "source": [
    "folder_path='C:\\\\Users\\\\zihao\\\\OneDrive\\\\Desktop\\\\Citi Work\\\\ABS Research\\\\1010 XMLquery\\\\Equifax Analytics Dataset'\n",
    "print(folder_path)"
   ]
  },
  {
   "cell_type": "code",
   "execution_count": null,
   "id": "ec7c4f0a-dcea-43cc-bdcc-5923e55c9fb2",
   "metadata": {},
   "outputs": [],
   "source": [
    "query_path = folder_path\n",
    "files=os.listdir(query_path)\n",
    "query_list=[]\n",
    "for i in files:\n",
    "    query_list.append(i)\n",
    "\n",
    "print(len(query_list))\n",
    "print(query_list)"
   ]
  },
  {
   "cell_type": "code",
   "execution_count": null,
   "id": "f38311b4-17e1-4512-a053-5c797a57aac0",
   "metadata": {},
   "outputs": [],
   "source": [
    "from argparse import Namespace\n",
    "\n",
    "settings = Namespace(\n",
    "    \n",
    "    #Chart Settings\n",
    "    title_fontsize = 18,\n",
    "    fig_size=(12,6),\n",
    "    \n",
    "    # BackUP Settings\n",
    "    root_directory = 'C:\\\\Users\\\\zihao\\\\OneDrive\\\\Desktop\\\\Citi Work\\\\ABS Research\\\\Equifax Dataset Charts',\n",
    "    report_directory = 'Chart_Content',\n",
    "    backup_directory = 'BACKUP',\n",
    "    \n",
    "    #Chart Name Settings\n",
    "    report_name = 'ExampleReport',\n",
    "    rep_extn = \".png\",\n",
    "    backup_name_format = '%Y-%m-%d'\n",
    ")"
   ]
  },
  {
   "cell_type": "code",
   "execution_count": null,
   "id": "ab7d8d63-f5de-4505-a4f4-1543560032d0",
   "metadata": {},
   "outputs": [],
   "source": [
    "start_date = input('What is the start date of your plot Specify to this format: 2005-07-01')"
   ]
  },
  {
   "cell_type": "code",
   "execution_count": null,
   "id": "5013e54a-ed76-407d-ae31-7b3106543247",
   "metadata": {},
   "outputs": [],
   "source": [
    "print(start_date)\n",
    "type(start_date)"
   ]
  },
  {
   "cell_type": "code",
   "execution_count": null,
   "id": "a950dd79-9c6f-4723-8431-03809a738ed1",
   "metadata": {},
   "outputs": [],
   "source": [
    "def Get_1010Data(q):\n",
    "    session = py1010.Session(gateway,username,password,py1010.KILL)\n",
    "    tablename = \"pub.fin.efxas.client.v3.v3_panel_data\"\n",
    "    \n",
    "    row_list = []\n",
    "    headers = []\n",
    "    try:\n",
    "        query = session.query(tablename, q)\n",
    "        query.run()\n",
    "        for r in range(query.nrows):\n",
    "            row_list.append(query.getrow(r))\n",
    "        for c in query.cols:\n",
    "            headers.append(c.name)\n",
    "        \n",
    "        df = pd.DataFrame(row_list,columns=headers)\n",
    "        for col in df.columns:\n",
    "            if isinstance(df[col][1],bytes):\n",
    "                df[col] = df[col].str.decode(\"utf-8\")\n",
    "    \n",
    "    except py1010.TentenException as e:\n",
    "        print(\"Error: {}\".format(e))\n",
    "    \n",
    "    session.close()\n",
    "    print(\"result saved as a dataframe, and 1010 session closed\")\n",
    "    \n",
    "    return df"
   ]
  },
  {
   "cell_type": "code",
   "execution_count": null,
   "id": "5079c13f-a56a-41ad-a2a1-c258f114906c",
   "metadata": {},
   "outputs": [],
   "source": [
    "def Get_firsttoroll_probab(masterpivot,fico_bucket):\n",
    "    firstroll_1catDQ = masterpivot.xs(fico_bucket,level='fico_bucket').xs(1,level=\"rollProdTypes2\")\n",
    "    firstroll_1catDQ['consumer_count_1catDQ'] = firstroll_1catDQ.groupby(level=['date'])['unique_borrower_count'].transform('sum')\n",
    "    firstroll_1catDQ['firstroll_probab']='blank'\n",
    "    \n",
    "    for i in range(0,len(firstroll_1catDQ)):\n",
    "        firstroll_1catDQ['firstroll_probab'].iloc[i] = (firstroll_1catDQ['unique_borrower_count'].iloc[i]/firstroll_1catDQ['consumer_count_1catDQ'].iloc[i])*100\n",
    "        \n",
    "    firstroll_1catDQ=firstroll_1catDQ.reset_index(level='date')\n",
    "    \n",
    "    return firstroll_1catDQ"
   ]
  },
  {
   "cell_type": "code",
   "execution_count": null,
   "id": "4a33aceb-7bcd-4dbb-854a-ccb036416672",
   "metadata": {},
   "outputs": [],
   "source": [
    "def Get_Lasttoremain_probab(masterpivot,fico_bucket):\n",
    "    LastCurr_3catDQ = masterpivot.xs(fico_bucket,level='fico_bucket').xs(3,level=\"rollProdTypes2\")\n",
    "    LastCurr_3catDQ['consumer_count_3catDQ'] = LastCurr_3catDQ.groupby(level=['date'])['unique_borrower_count'].transform('sum')\n",
    "    LastCurr_3catDQ['Lastroll_probab']='blank'\n",
    "    \n",
    "    for i in range(0,len(LastCurr_3catDQ)):\n",
    "       LastCurr_3catDQ['Lastroll_probab'].iloc[i] = (LastCurr_3catDQ['unique_borrower_count'].iloc[i]/LastCurr_3catDQ['consumer_count_3catDQ'].iloc[i])*100\n",
    "                \n",
    "    LastCurr_3catDQ=LastCurr_3catDQ.reset_index(level='date')\n",
    "    \n",
    "    return LastCurr_3catDQ"
   ]
  },
  {
   "cell_type": "code",
   "execution_count": null,
   "id": "ab9478b7-5c8b-4b6a-a405-4a19c207b42e",
   "metadata": {
    "tags": []
   },
   "outputs": [],
   "source": [
    "def plot_metric_full_hist(metric_df,start_date,y_label,plottitle,*args):\n",
    "    \n",
    "    fig = plt.figure(figsize=(12,6))\n",
    "    ax = fig.add_subplot(1,1,1)\n",
    "    c = ['#002060','#00BDF2','#99ABC7','#CCF2FC','99E2E3','#00B0B9','#FFD700','#A9561E','#E6DAA6']\n",
    "    \n",
    "    for i in range(0,len(args)):\n",
    "        ax.plot(metric_df.loc[metric_df['date']>=start_date].xs(args[i],level=\"fico_bucket\")['date'], metric_df.loc[metric_df['date']>=start_date].xs(args[i],level=\"fico_bucket\").iloc[:,-1],c=c[i],ls='-',label=args[i],fillstyle='none',linewidth = 4.0)\n",
    "    \n",
    "    ax.set_xticklabels([str(i) for i in metric_df['date'].values], fontsize=15)\n",
    "    ax.set_yticklabels([str(i) for i in ax.get_yticks()],fontsize=15)\n",
    "    \n",
    "    ax.tick_params(axis='x',colors='black')\n",
    "    ax.tick_params(axis='y', colors='black')\n",
    "    \n",
    "    plt.xticks(rotation= 30)\n",
    "    plt.ylabel(y_label,fontsize = 16)\n",
    "    \n",
    "    plt.legend(loc = \"upper center\", ncol = len(args), prop = {'size':16}, bbox_to_anchor = (0.5,1.1), fancybox =True, frameon = False)\n",
    "    \n",
    "    ax.xaxis.set_major_locator(mdates.MonthLocator(bymonth=(6)))\n",
    "                               \n",
    "    ax.xaxis.set_major_formatter(mdates.DateFormatter(\"%b-%y\"))\n",
    "    ax.xaxis.set_minor_formatter(mdates.DateFormatter(\"%b-%y\"))\n",
    "                                 \n",
    "    ax.grid(axis='y',linestyle='--',dashes=(5,5))\n",
    "    ax.spines['right'].set_visible(False)\n",
    "    ax.spines['left'].set_visible(False)\n",
    "    ax.spines['top'].set_visible(False)\n",
    "                                 \n",
    "    ax.yaxis.set_ticks_position('none')\n",
    "    plt.gca().spines['bottom'].set_color('gray')\n",
    "\n",
    "    plt.gca().yaxis.set_major_formatter(ticker.StrMethodFormatter('{x:,,.0f}'))\n",
    "    fig.suptitle(plottitle,fontsize = 18)\n",
    "\n",
    "    plt.show()\n",
    "    \n",
    "    return fig"
   ]
  },
  {
   "cell_type": "code",
   "execution_count": null,
   "id": "420067d3-dbfe-4cfd-a767-b1b7c1a35567",
   "metadata": {},
   "outputs": [],
   "source": [
    "def save_chart(fig, figname):\n",
    "    \n",
    "    rep_path = os.path.join(settings.root_directory, settings.report_directory)\n",
    "    if not os.path.exists(rep_path):\n",
    "        os.makedirs(rep_path)\n",
    "    \n",
    "    filename = figname + settings.rep_extn\n",
    "    fig.savefig(os.path.join(rep_path,filename))\n",
    "    \n",
    "    backup_path=os.path.join(rep_path, settings.backup_directory)     \n",
    "    if not os.path.exists(backup_path):\n",
    "        os.makedirs(backup_path)\n",
    "    \n",
    "    backup_date = datetime.today().strftime(settings.backup_name_format)\n",
    "    backup_filename = figname + \"_\" + backup_date + settings.rep_extn\n",
    "    fig.savefig(os.path.join(backup_path, backup_filename))\n",
    "    \n",
    "    print('chart saved to the target and BACKUP directory in this following directory C:\\\\Users\\\\zihao\\\\Desktop\\\\Citi Work\\\\ABS Research')"
   ]
  },
  {
   "cell_type": "markdown",
   "id": "9b80895a-3c67-4b75-90ed-7c53b950694f",
   "metadata": {},
   "source": [
    "### ___Main___"
   ]
  },
  {
   "cell_type": "markdown",
   "id": "7e72576f-e823-4d95-8288-d03c40453223",
   "metadata": {},
   "source": [
    "### Payment Priority starts here"
   ]
  },
  {
   "cell_type": "code",
   "execution_count": null,
   "id": "3595ca2f-8cef-43bf-a254-6a509c3fb22f",
   "metadata": {},
   "outputs": [],
   "source": [
    "file=open('Payment Priority - Roll and Save.txt','r')\n",
    "lines=file.readlines()\n",
    "q = [line.rstrip().lstrip() for line in lines]\n",
    "file.close()\n",
    "q=\"\".join(q)\n",
    "\n",
    "print(q)"
   ]
  },
  {
   "cell_type": "code",
   "execution_count": null,
   "id": "7ad2ee52-f26f-4ae0-870b-fb55c78a67e0",
   "metadata": {},
   "outputs": [],
   "source": [
    "payment_priority_raw = Get_1010Data(q)\n",
    "\n",
    "#average runtime: 20min"
   ]
  },
  {
   "cell_type": "code",
   "execution_count": null,
   "id": "1d283c25-237c-463f-ba73-cdfdcab79546",
   "metadata": {},
   "outputs": [],
   "source": [
    "payment_priority_raw1 = payment_priority_raw \n",
    "# save a copy of the data and work with raw1 later"
   ]
  },
  {
   "cell_type": "code",
   "execution_count": null,
   "id": "d252e2dc-6711-4d50-9e3e-46e4b382193f",
   "metadata": {},
   "outputs": [],
   "source": [
    "len(payment_priority_raw1)"
   ]
  },
  {
   "cell_type": "code",
   "execution_count": null,
   "id": "98a6f60f-47a0-4904-9226-9a80fb0823d9",
   "metadata": {},
   "outputs": [],
   "source": [
    "pd.concat([payment_priority_raw1.head(15),payment_priority_raw1.tail(15)])"
   ]
  },
  {
   "cell_type": "code",
   "execution_count": null,
   "id": "47e5e407-d712-4d04-b8a9-f893d80cdc2d",
   "metadata": {},
   "outputs": [],
   "source": [
    "payment_priority_raw1 = payment_priority_raw1.set_index(['date','fico_bucket','rollProdTypes2'])"
   ]
  },
  {
   "cell_type": "code",
   "execution_count": null,
   "id": "59f84fff-fa29-47b8-9b41-81ea4012b639",
   "metadata": {},
   "outputs": [],
   "source": [
    "payment_priority_pivot = pd.pivot_table(payment_priority_raw1,values=['unique_borrower_count'], columns=['date','fico_bucket','rollProdTypes2','rollAuto','rollFM','rollBC','rollPL'],aggfunc=np.sum).transpose()\n",
    "\n",
    "payment_priority_pivot.head(15)"
   ]
  },
  {
   "cell_type": "markdown",
   "id": "6cf63376-ad9e-4940-b011-3d3827e31eae",
   "metadata": {},
   "source": [
    "### Approach #1 First to Roll"
   ]
  },
  {
   "cell_type": "markdown",
   "id": "01d182ea-a072-4c72-bc94-9b7d2f4f3ce3",
   "metadata": {},
   "source": [
    "### Background Statistics: FICO Distribution for borrowers that only have 1 type of loan within a 6-m rolling window"
   ]
  },
  {
   "cell_type": "code",
   "execution_count": null,
   "id": "2206ad80-9725-492b-94ac-6ec2ea495ff8",
   "metadata": {},
   "outputs": [],
   "source": [
    "roll90p_1cat_pivot.index"
   ]
  },
  {
   "cell_type": "code",
   "execution_count": null,
   "id": "514eb612-8341-4fb1-ac0b-58a8dffbad9a",
   "metadata": {},
   "outputs": [],
   "source": [
    "roll90p_1cat_pivot=payment_priority_pivot.xs(1,level=\"rollProdTypes2\").groupby(level=[0,'date','fico_bucket'])['unique_borrower_count'].sum()\n",
    "#roll90p_1cat_pivot = roll90p_1cat_pivot.reset_index(level=0)"
   ]
  },
  {
   "cell_type": "code",
   "execution_count": null,
   "id": "61b7e13a-8150-4f14-8c1a-95097a9a828d",
   "metadata": {},
   "outputs": [],
   "source": [
    "#roll90p_1cat_pivot=roll90p_1cat_pivot.drop(columns=['date'])"
   ]
  },
  {
   "cell_type": "code",
   "execution_count": null,
   "id": "1e4b1697-558a-4459-95ee-29f30c8891cf",
   "metadata": {},
   "outputs": [],
   "source": [
    "#roll90p_1cat_pivot.head()"
   ]
  },
  {
   "cell_type": "code",
   "execution_count": null,
   "id": "a339337a-16eb-4707-9160-1c6023661a66",
   "metadata": {},
   "outputs": [],
   "source": [
    "#roll90p_1cat_pivot = roll90p_1cat_pivot.reset_index(level='date')"
   ]
  },
  {
   "cell_type": "code",
   "execution_count": null,
   "id": "cd965b90-2418-4da6-82c7-c7934f88d1b8",
   "metadata": {},
   "outputs": [],
   "source": [
    "roll90p_1cat_pivot['date']=pd.to_datetime(roll90p_1cat_pivot['date'], infer_datetime_format=True)"
   ]
  },
  {
   "cell_type": "code",
   "execution_count": null,
   "id": "139c6e39-3712-418a-a488-b8c541635b42",
   "metadata": {},
   "outputs": [],
   "source": [
    "roll90p_1cat_pivot.head(10)"
   ]
  },
  {
   "cell_type": "code",
   "execution_count": null,
   "id": "8e59f1c2-a889-44c3-8f7e-b1f340287882",
   "metadata": {},
   "outputs": [],
   "source": [
    "save_chart(\n",
    "    plot_metric_full_hist(roll90p_1cat_pivot,start_date,'# of Unique Borrower','FICO Distribution for Borrowers with Roll to 90+ DQ in only 1 Category','below 660','660-720','above 720'),\n",
    "    'fico dist_1cat'\n",
    ")"
   ]
  },
  {
   "cell_type": "markdown",
   "id": "e76e9c8f-da10-41d9-8f71-b12cca956838",
   "metadata": {},
   "source": [
    "#### The loan category being the first to roll into serious DQ, for various FICO bands"
   ]
  },
  {
   "cell_type": "code",
   "execution_count": null,
   "id": "41c93fe1-4a26-47a6-aa0f-ccae50f538a1",
   "metadata": {},
   "outputs": [],
   "source": [
    "subprime_firsttoroll = Get_firsttoroll_probab(payment_priority_pivot,'below 660')\n",
    "nearprime_firsttoroll = Get_firsttoroll_probab(payment_priority_pivot,'660-720')\n",
    "prime_firsttoroll = Get_firsttoroll_probab(payment_priority_pivot,'above 720')"
   ]
  },
  {
   "cell_type": "code",
   "execution_count": null,
   "id": "3e28371a-3ca5-4c8b-b885-3c8fbcec949b",
   "metadata": {},
   "outputs": [],
   "source": [
    "subprime_firsttoroll['date']=pd.to_datetime(subprime_firsttoroll['date'], infer_datetime_format=True)\n",
    "nearprime_firsttoroll['date']=pd.to_datetime(nearprime_firsttoroll['date'], infer_datetime_format=True)\n",
    "prime_firsttoroll['date']=pd.to_datetime(prime_firsttoroll['date'], infer_datetime_format=True)"
   ]
  },
  {
   "cell_type": "markdown",
   "id": "684f3b5c-1ed1-414a-beeb-9ded22db7c50",
   "metadata": {},
   "source": [
    "### Subprime Priority of Payment"
   ]
  },
  {
   "cell_type": "code",
   "execution_count": null,
   "id": "2e9cec01-cd50-4a92-9559-ba0fba73d218",
   "metadata": {},
   "outputs": [],
   "source": [
    "fig1=plt.figure(figsize=(12,6))\n",
    "ax=fig1.add_subplot(1,1,1)\n",
    "\n",
    "c=['#002060','#00BDF2','#99ABC7','#CCF2FC','99E2E3','#00B0B9','#FFD700','#A9561E','#E6DAA6']\n",
    "\n",
    "ax.plot(subprime_firsttoroll.loc[subprime_firsttoroll['date']>=start_date].xs(1,level=\"rollAuto\")['date'],subprime_firsttoroll.loc[subprime_firsttoroll['date']>=start_date].xs(1,level=\"rollAuto\")['firstroll_probab'], c=c[0],ls='-',label='Auto',fillstyle='none',linewidth = 4.0)\n",
    "ax.plot(subprime_firsttoroll.loc[subprime_firsttoroll['date']>=start_date].xs(1,level=\"rollPL\")['date'],subprime_firsttoroll.loc[subprime_firsttoroll['date']>=start_date].xs(1,level=\"rollPL\")['firstroll_probab'], c=c[1],ls='-',label='Personal Loan',fillstyle='none',linewidth = 4.0)\n",
    "ax.plot(subprime_firsttoroll.loc[subprime_firsttoroll['date']>=start_date].xs(1,level=\"rollBC\")['date'],subprime_firsttoroll.loc[subprime_firsttoroll['date']>=start_date].xs(1,level=\"rollBC\")['firstroll_probab'], c=c[2],ls='-',label='Credit Card',fillstyle='none',linewidth = 4.0)\n",
    "ax.plot(subprime_firsttoroll.loc[subprime_firsttoroll['date']>=start_date].xs(1,level=\"rollFM\")['date'],subprime_firsttoroll.loc[subprime_firsttoroll['date']>=start_date].xs(1,level=\"rollFM\")['firstroll_probab'], c=c[3],ls='-',label='Mortgage',fillstyle='none',linewidth = 4.0)\n",
    "\n",
    "ax.set_xticklabels([str(i) for i in subprime_firsttoroll['date'].values], fontsize=15)\n",
    "ax.set_yticklabels([str(i) for i in ax.get_yticks()],fontsize=15)\n",
    "    \n",
    "ax.tick_params(axis='x',colors='black')\n",
    "ax.tick_params(axis='y', colors='black')\n",
    "    \n",
    "plt.xticks(rotation= 30)\n",
    "plt.ylabel('%',fontsize = 16)\n",
    "    \n",
    "plt.legend(loc = \"upper center\", ncol = 4, prop = {'size':16}, bbox_to_anchor = (0.5,1.1), fancybox =True, frameon = False)\n",
    "    \n",
    "ax.xaxis.set_major_locator(mdates.MonthLocator(bymonth=(6)))\n",
    "                               \n",
    "ax.xaxis.set_major_formatter(mdates.DateFormatter(\"%b-%y\"))\n",
    "ax.xaxis.set_minor_formatter(mdates.DateFormatter(\"%b-%y\"))\n",
    "                                 \n",
    "ax.grid(axis='y',linestyle='--',dashes=(5,5))\n",
    "ax.spines['right'].set_visible(False)\n",
    "ax.spines['left'].set_visible(False)\n",
    "ax.spines['top'].set_visible(False)\n",
    "                                 \n",
    "ax.yaxis.set_ticks_position('none')\n",
    "plt.gca().spines['bottom'].set_color('gray')\n",
    "\n",
    "plt.gca().yaxis.set_major_formatter(ticker.StrMethodFormatter('{x:,.0f}'))\n",
    "\n",
    "fig1.suptitle('First to Roll into DQ 90+ when Other Categories Stay Current, Below 660 FICO',fontsize = 18)\n",
    "\n",
    "plt.show()"
   ]
  },
  {
   "cell_type": "code",
   "execution_count": null,
   "id": "67426c1b-2d8e-498b-92a8-55e1afa8f1f9",
   "metadata": {},
   "outputs": [],
   "source": [
    "save_chart(fig1,\"Subprime First to Roll\")"
   ]
  },
  {
   "cell_type": "markdown",
   "id": "cfd1485b-3ca6-4a19-a08e-a912a1c9e30d",
   "metadata": {},
   "source": [
    "### Nearprime Priority of Payment"
   ]
  },
  {
   "cell_type": "code",
   "execution_count": null,
   "id": "545d4228-44d3-4b74-bf83-a7c750acdd22",
   "metadata": {},
   "outputs": [],
   "source": [
    "fig2=plt.figure(figsize=(12,6))\n",
    "ax=fig2.add_subplot(1,1,1)\n",
    "\n",
    "c=['#002060','#00BDF2','#99ABC7','#CCF2FC','99E2E3','#00B0B9','#FFD700','#A9561E','#E6DAA6']\n",
    "\n",
    "ax.plot(nearprime_firsttoroll.loc[nearprime_firsttoroll['date']>=start_date].xs(1,level=\"rollAuto\")['date'],nearprime_firsttoroll.loc[nearprime_firsttoroll['date']>=start_date].xs(1,level=\"rollAuto\")['firstroll_probab'], c=c[0],ls='-',label='Auto',fillstyle='none',linewidth = 4.0)\n",
    "ax.plot(nearprime_firsttoroll.loc[nearprime_firsttoroll['date']>=start_date].xs(1,level=\"rollPL\")['date'],nearprime_firsttoroll.loc[nearprime_firsttoroll['date']>=start_date].xs(1,level=\"rollPL\")['firstroll_probab'], c=c[1],ls='-',label='Personal Loan',fillstyle='none',linewidth = 4.0)\n",
    "ax.plot(nearprime_firsttoroll.loc[nearprime_firsttoroll['date']>=start_date].xs(1,level=\"rollBC\")['date'],nearprime_firsttoroll.loc[nearprime_firsttoroll['date']>=start_date].xs(1,level=\"rollBC\")['firstroll_probab'], c=c[2],ls='-',label='Credit Card',fillstyle='none',linewidth = 4.0)\n",
    "ax.plot(nearprime_firsttoroll.loc[nearprime_firsttoroll['date']>=start_date].xs(1,level=\"rollFM\")['date'],nearprime_firsttoroll.loc[nearprime_firsttoroll['date']>=start_date].xs(1,level=\"rollFM\")['firstroll_probab'], c=c[3],ls='-',label='Mortgage',fillstyle='none',linewidth = 4.0)\n",
    "\n",
    "ax.set_xticklabels([str(i) for i in nearprime_firsttoroll['date'].values], fontsize=15)\n",
    "ax.set_yticklabels([str(i) for i in ax.get_yticks()],fontsize=15)\n",
    "    \n",
    "ax.tick_params(axis='x',colors='black')\n",
    "ax.tick_params(axis='y', colors='black')\n",
    "    \n",
    "plt.xticks(rotation= 30)\n",
    "plt.ylabel('%',fontsize = 16)\n",
    "    \n",
    "plt.legend(loc = \"upper center\", ncol = 4, prop = {'size':16}, bbox_to_anchor = (0.5,1.1), fancybox =True, frameon = False)\n",
    "    \n",
    "ax.xaxis.set_major_locator(mdates.MonthLocator(bymonth=(6)))\n",
    "                               \n",
    "ax.xaxis.set_major_formatter(mdates.DateFormatter(\"%b-%y\"))\n",
    "ax.xaxis.set_minor_formatter(mdates.DateFormatter(\"%b-%y\"))\n",
    "                                 \n",
    "ax.grid(axis='y',linestyle='--',dashes=(5,5))\n",
    "ax.spines['right'].set_visible(False)\n",
    "ax.spines['left'].set_visible(False)\n",
    "ax.spines['top'].set_visible(False)\n",
    "                                 \n",
    "ax.yaxis.set_ticks_position('none')\n",
    "plt.gca().spines['bottom'].set_color('gray')\n",
    "\n",
    "plt.gca().yaxis.set_major_formatter(ticker.StrMethodFormatter('{x:,.0f}'))\n",
    "\n",
    "fig2.suptitle('First to Roll into DQ 90+ when Other Categories Stay Current, 660-720 FICO',fontsize = 18)\n",
    "\n",
    "plt.show()"
   ]
  },
  {
   "cell_type": "code",
   "execution_count": null,
   "id": "12b4304b-1414-4234-b8a8-5ef85ad8cfa3",
   "metadata": {},
   "outputs": [],
   "source": [
    "save_chart(fig2,'Nearprime First to Roll')"
   ]
  },
  {
   "cell_type": "markdown",
   "id": "ce56ce16-c2b2-49d1-a838-fa06cc3a80d6",
   "metadata": {},
   "source": [
    "### Prime Priority of Payment"
   ]
  },
  {
   "cell_type": "code",
   "execution_count": null,
   "id": "ba5cfc2f-c130-44d5-a780-aac50d632bac",
   "metadata": {},
   "outputs": [],
   "source": [
    "fig=plt.figure(figsize=(12,6))\n",
    "ax=fig.add_subplot(1,1,1)\n",
    "\n",
    "c=['#002060','#00BDF2','#99ABC7','#CCF2FC','99E2E3','#00B0B9','#FFD700','#A9561E','#E6DAA6']\n",
    "\n",
    "ax.plot(prime_firsttoroll.loc[prime_firsttoroll['date']>=start_date].xs(1,level=\"rollAuto\")['date'],prime_firsttoroll.loc[prime_firsttoroll['date']>=start_date].xs(1,level=\"rollAuto\")['firstroll_probab'], c=c[0],ls='-',label='Auto',fillstyle='none',linewidth = 4.0)\n",
    "ax.plot(prime_firsttoroll.loc[prime_firsttoroll['date']>=start_date].xs(1,level=\"rollPL\")['date'],prime_firsttoroll.loc[prime_firsttoroll['date']>=start_date].xs(1,level=\"rollPL\")['firstroll_probab'], c=c[1],ls='-',label='Personal Loan',fillstyle='none',linewidth = 4.0)\n",
    "ax.plot(prime_firsttoroll.loc[prime_firsttoroll['date']>=start_date].xs(1,level=\"rollBC\")['date'],prime_firsttoroll.loc[prime_firsttoroll['date']>=start_date].xs(1,level=\"rollBC\")['firstroll_probab'], c=c[2],ls='-',label='Credit Card',fillstyle='none',linewidth = 4.0)\n",
    "ax.plot(prime_firsttoroll.loc[prime_firsttoroll['date']>=start_date].xs(1,level=\"rollFM\")['date'],prime_firsttoroll.loc[prime_firsttoroll['date']>=start_date].xs(1,level=\"rollFM\")['firstroll_probab'], c=c[3],ls='-',label='Mortgage',fillstyle='none',linewidth = 4.0)\n",
    "\n",
    "ax.set_xticklabels([str(i) for i in prime_firsttoroll['date'].values], fontsize=15)\n",
    "ax.set_yticklabels([str(i) for i in ax.get_yticks()],fontsize=15)\n",
    "    \n",
    "ax.tick_params(axis='x',colors='black')\n",
    "ax.tick_params(axis='y', colors='black')\n",
    "    \n",
    "plt.xticks(rotation= 30)\n",
    "plt.ylabel('%',fontsize = 16)\n",
    "    \n",
    "plt.legend(loc = \"upper center\", ncol = 4, prop = {'size':16}, bbox_to_anchor = (0.5,1.1), fancybox =True, frameon = False)\n",
    "    \n",
    "ax.xaxis.set_major_locator(mdates.MonthLocator(bymonth=(6)))\n",
    "                               \n",
    "ax.xaxis.set_major_formatter(mdates.DateFormatter(\"%b-%y\"))\n",
    "ax.xaxis.set_minor_formatter(mdates.DateFormatter(\"%b-%y\"))\n",
    "                                 \n",
    "ax.grid(axis='y',linestyle='--',dashes=(5,5))\n",
    "ax.spines['right'].set_visible(False)\n",
    "ax.spines['left'].set_visible(False)\n",
    "ax.spines['top'].set_visible(False)\n",
    "                                 \n",
    "ax.yaxis.set_ticks_position('none')\n",
    "plt.gca().spines['bottom'].set_color('gray')\n",
    "\n",
    "plt.gca().yaxis.set_major_formatter(ticker.StrMethodFormatter('{x:,.0f}'))\n",
    "\n",
    "fig.suptitle('First to Roll into DQ 90+ when Other Categories Stay Current, above 720 FICO',fontsize = 18)\n",
    "\n",
    "plt.show()"
   ]
  },
  {
   "cell_type": "code",
   "execution_count": null,
   "id": "0516cf3f-db9b-4fc2-90dc-380105f59488",
   "metadata": {},
   "outputs": [],
   "source": [
    "save_chart(fig,'Prime First to Roll')"
   ]
  },
  {
   "cell_type": "markdown",
   "id": "04c65f7a-e8b7-43a0-b127-c245da30cdd6",
   "metadata": {},
   "source": [
    "## -------------------------Seperator -----------------------"
   ]
  },
  {
   "cell_type": "markdown",
   "id": "f9a95861-f83d-40b6-ba02-3f9f53a95b71",
   "metadata": {},
   "source": [
    "### Approach #2 - Last to Roll (Only Type to Remain Current)\n",
    "\n",
    "### Fico Distribution for Borrowers that have 3 types of loan rolling into 90+ DQ within a 6 month rolling window"
   ]
  },
  {
   "cell_type": "markdown",
   "id": "683995c3-47b6-4a64-8f57-baf9a5988c98",
   "metadata": {},
   "source": [
    "get the remaining one left type that has roll flag value of 0"
   ]
  },
  {
   "cell_type": "code",
   "execution_count": null,
   "id": "7e5d8021-6ea7-4521-817c-092d56ca1e61",
   "metadata": {},
   "outputs": [],
   "source": [
    "roll90_3cat_pivot = payment_priority_pivot.xs(3,level='rollProdTypes2').groupby(level=[0,'date','fico_bucket'])['unique_borrower_count'].sum()\n",
    "\n",
    "#roll90_3cat_pivot=roll90_3cat_pivot.reset(level='date')"
   ]
  },
  {
   "cell_type": "code",
   "execution_count": null,
   "id": "8b547b9d-997e-4942-8384-dde21d89e27f",
   "metadata": {},
   "outputs": [],
   "source": [
    "subprime_lasttoremain = Get_Lasttoremain_probab(payment_priority_pivot,'below 660')\n",
    "nearprime_lasttoremain = Get_Lasttoremain_probab(payment_priority_pivot,'660-720')\n",
    "prime_lasttoremain = Get_Lasttoremain_probab(payment_priority_pivot,'above 720')"
   ]
  },
  {
   "cell_type": "code",
   "execution_count": null,
   "id": "6cd04d67-386b-4a74-abea-07037469e783",
   "metadata": {},
   "outputs": [],
   "source": [
    "subprime_lasttoremain['date']=pd.to_datetime(subprime_lasttoremain['date'], infer_datetime_format=True)\n",
    "nearprime_lasttoremain['date']=pd.to_datetime(nearprime_lasttoremain['date'], infer_datetime_format=True)\n",
    "prime_lasttoremain['date']=pd.to_datetime(prime_lasttoremain['date'], infer_datetime_format=True)"
   ]
  },
  {
   "cell_type": "code",
   "execution_count": null,
   "id": "8b145d14-58b5-4927-ba70-6009d1ba94f7",
   "metadata": {},
   "outputs": [],
   "source": [
    "subprime_lasttoremain.tail(10)"
   ]
  },
  {
   "cell_type": "markdown",
   "id": "f1896180-3eeb-4d68-b6da-2f2d5a1e910f",
   "metadata": {},
   "source": [
    "### Subprime Last to Roll"
   ]
  },
  {
   "cell_type": "code",
   "execution_count": null,
   "id": "b11a90b8-c4c2-4b9a-a4c2-3354f1849a38",
   "metadata": {},
   "outputs": [],
   "source": [
    "fig=plt.figure(figsize=(12,6))\n",
    "ax=fig.add_subplot(1,1,1)\n",
    "\n",
    "c=['#002060','#00BDF2','#99ABC7','#CCF2FC','99E2E3','#00B0B9','#FFD700','#A9561E','#E6DAA6']\n",
    "\n",
    "ax.plot(subprime_lasttoremain.loc[subprime_lasttoremain['date']>=start_date].xs(0,level=\"rollAuto\")['date'],subprime_lasttoremain.loc[subprime_lasttoremain['date']>=start_date].xs(0,level=\"rollAuto\")['Lastroll_probab'], c=c[0],ls='-',label='Auto',fillstyle='none',linewidth = 4.0)\n",
    "ax.plot(subprime_lasttoremain.loc[subprime_lasttoremain['date']>=start_date].xs(0,level=\"rollPL\")['date'],subprime_lasttoremain.loc[subprime_lasttoremain['date']>=start_date].xs(0,level=\"rollPL\")['Lastroll_probab'], c=c[1],ls='-',label='Personal Loan',fillstyle='none',linewidth = 4.0)\n",
    "ax.plot(subprime_lasttoremain.loc[subprime_lasttoremain['date']>=start_date].xs(0,level=\"rollBC\")['date'],subprime_lasttoremain.loc[subprime_lasttoremain['date']>=start_date].xs(0,level=\"rollBC\")['Lastroll_probab'], c=c[2],ls='-',label='Credit Card',fillstyle='none',linewidth = 4.0)\n",
    "ax.plot(subprime_lasttoremain.loc[subprime_lasttoremain['date']>=start_date].xs(0,level=\"rollFM\")['date'],subprime_lasttoremain.loc[subprime_lasttoremain['date']>=start_date].xs(0,level=\"rollFM\")['Lastroll_probab'], c=c[3],ls='-',label='Mortgage',fillstyle='none',linewidth = 4.0)\n",
    "\n",
    "ax.set_xticklabels([str(i) for i in subprime_lasttoremain['date'].values], fontsize=15)\n",
    "ax.set_yticklabels([str(i) for i in ax.get_yticks()],fontsize=15)\n",
    "    \n",
    "ax.tick_params(axis='x',colors='black')\n",
    "ax.tick_params(axis='y', colors='black')\n",
    "    \n",
    "plt.xticks(rotation= 30)\n",
    "plt.ylabel('%',fontsize = 16)\n",
    "    \n",
    "plt.legend(loc = \"upper center\", ncol = 4, prop = {'size':16}, bbox_to_anchor = (0.5,1.1), fancybox =True, frameon = False)\n",
    "    \n",
    "ax.xaxis.set_major_locator(mdates.MonthLocator(bymonth=(6)))\n",
    "                               \n",
    "ax.xaxis.set_major_formatter(mdates.DateFormatter(\"%b-%y\"))\n",
    "ax.xaxis.set_minor_formatter(mdates.DateFormatter(\"%b-%y\"))\n",
    "                                 \n",
    "ax.grid(axis='y',linestyle='--',dashes=(5,5))\n",
    "ax.spines['right'].set_visible(False)\n",
    "ax.spines['left'].set_visible(False)\n",
    "ax.spines['top'].set_visible(False)\n",
    "                                 \n",
    "ax.yaxis.set_ticks_position('none')\n",
    "plt.gca().spines['bottom'].set_color('gray')\n",
    "\n",
    "plt.gca().yaxis.set_major_formatter(ticker.StrMethodFormatter('{x:,.0f}'))\n",
    "\n",
    "fig.suptitle('Only Type to Remain Current When Other Categories all Roll into 90+ DQ, Below 660 FICO',fontsize = 18)\n",
    "\n",
    "plt.show()"
   ]
  },
  {
   "cell_type": "code",
   "execution_count": null,
   "id": "99d1619f-f7b5-481e-9eca-3d3355589329",
   "metadata": {},
   "outputs": [],
   "source": [
    "save_chart(fig,'Subprime Last to Remain')"
   ]
  },
  {
   "cell_type": "markdown",
   "id": "b99aa1ce-c26c-4318-acfa-c75e029cf5b3",
   "metadata": {},
   "source": [
    "### Nearprime Last to Roll"
   ]
  },
  {
   "cell_type": "code",
   "execution_count": null,
   "id": "321b1b29-bcdc-45fc-a4ab-46cec9ccbb4f",
   "metadata": {},
   "outputs": [],
   "source": [
    "fig=plt.figure(figsize=(12,6))\n",
    "ax=fig.add_subplot(1,1,1)\n",
    "\n",
    "c=['#002060','#00BDF2','#99ABC7','#CCF2FC','99E2E3','#00B0B9','#FFD700','#A9561E','#E6DAA6']\n",
    "\n",
    "ax.plot(nearprime_lasttoremain.loc[nearprime_lasttoremain['date']>=start_date].xs(0,level=\"rollAuto\")['date'],nearprime_lasttoremain.loc[nearprime_lasttoremain['date']>=start_date].xs(0,level=\"rollAuto\")['Lastroll_probab'], c=c[0],ls='-',label='Auto',fillstyle='none',linewidth = 4.0)\n",
    "ax.plot(nearprime_lasttoremain.loc[nearprime_lasttoremain['date']>=start_date].xs(0,level=\"rollPL\")['date'],nearprime_lasttoremain.loc[nearprime_lasttoremain['date']>=start_date].xs(0,level=\"rollPL\")['Lastroll_probab'], c=c[1],ls='-',label='Personal Loan',fillstyle='none',linewidth = 4.0)\n",
    "ax.plot(nearprime_lasttoremain.loc[nearprime_lasttoremain['date']>=start_date].xs(0,level=\"rollBC\")['date'],nearprime_lasttoremain.loc[nearprime_lasttoremain['date']>=start_date].xs(0,level=\"rollBC\")['Lastroll_probab'], c=c[2],ls='-',label='Credit Card',fillstyle='none',linewidth = 4.0)\n",
    "ax.plot(nearprime_lasttoremain.loc[nearprime_lasttoremain['date']>=start_date].xs(0,level=\"rollFM\")['date'],nearprime_lasttoremain.loc[nearprime_lasttoremain['date']>=start_date].xs(0,level=\"rollFM\")['Lastroll_probab'], c=c[3],ls='-',label='Mortgage',fillstyle='none',linewidth = 4.0)\n",
    "\n",
    "ax.set_xticklabels([str(i) for i in nearprime_lasttoremain['date'].values], fontsize=15)\n",
    "ax.set_yticklabels([str(i) for i in ax.get_yticks()],fontsize=15)\n",
    "    \n",
    "ax.tick_params(axis='x',colors='black')\n",
    "ax.tick_params(axis='y', colors='black')\n",
    "    \n",
    "plt.xticks(rotation= 30)\n",
    "plt.ylabel('%',fontsize = 16)\n",
    "    \n",
    "plt.legend(loc = \"upper center\", ncol = 4, prop = {'size':16}, bbox_to_anchor = (0.5,1.1), fancybox =True, frameon = False)\n",
    "    \n",
    "ax.xaxis.set_major_locator(mdates.MonthLocator(bymonth=(6)))\n",
    "                               \n",
    "ax.xaxis.set_major_formatter(mdates.DateFormatter(\"%b-%y\"))\n",
    "ax.xaxis.set_minor_formatter(mdates.DateFormatter(\"%b-%y\"))\n",
    "                                 \n",
    "ax.grid(axis='y',linestyle='--',dashes=(5,5))\n",
    "ax.spines['right'].set_visible(False)\n",
    "ax.spines['left'].set_visible(False)\n",
    "ax.spines['top'].set_visible(False)\n",
    "                                 \n",
    "ax.yaxis.set_ticks_position('none')\n",
    "plt.gca().spines['bottom'].set_color('gray')\n",
    "\n",
    "plt.gca().yaxis.set_major_formatter(ticker.StrMethodFormatter('{x:,.0f}'))\n",
    "\n",
    "fig.suptitle('Only Type to Remain Current When Other Categories all Roll into 90+ DQ, 660-720 FICO',fontsize = 18)\n",
    "\n",
    "plt.show()"
   ]
  },
  {
   "cell_type": "code",
   "execution_count": null,
   "id": "28e3d627-b0ce-4ea3-877e-acaaa54f3868",
   "metadata": {},
   "outputs": [],
   "source": [
    "save_chart(fig,'Nearprime Last to Remain')"
   ]
  },
  {
   "cell_type": "markdown",
   "id": "808b77c5-b7ac-466c-a565-ccad67cfe4b7",
   "metadata": {},
   "source": [
    "### Prime Last to Roll"
   ]
  },
  {
   "cell_type": "code",
   "execution_count": null,
   "id": "bde97239-e653-43ba-8bbe-b467c0b06683",
   "metadata": {},
   "outputs": [],
   "source": [
    "fig=plt.figure(figsize=(12,6))\n",
    "ax=fig.add_subplot(1,1,1)\n",
    "\n",
    "c=['#002060','#00BDF2','#99ABC7','#CCF2FC','99E2E3','#00B0B9','#FFD700','#A9561E','#E6DAA6']\n",
    "\n",
    "ax.plot(prime_lasttoremain.loc[prime_lasttoremain['date']>=start_date].xs(0,level=\"rollAuto\")['date'],prime_lasttoremain.loc[prime_lasttoremain['date']>=start_date].xs(0,level=\"rollAuto\")['Lastroll_probab'], c=c[0],ls='-',label='Auto',fillstyle='none',linewidth = 4.0)\n",
    "ax.plot(prime_lasttoremain.loc[prime_lasttoremain['date']>=start_date].xs(0,level=\"rollPL\")['date'],prime_lasttoremain.loc[prime_lasttoremain['date']>=start_date].xs(0,level=\"rollPL\")['Lastroll_probab'], c=c[1],ls='-',label='Personal Loan',fillstyle='none',linewidth = 4.0)\n",
    "ax.plot(prime_lasttoremain.loc[prime_lasttoremain['date']>=start_date].xs(0,level=\"rollBC\")['date'],prime_lasttoremain.loc[prime_lasttoremain['date']>=start_date].xs(0,level=\"rollBC\")['Lastroll_probab'], c=c[2],ls='-',label='Credit Card',fillstyle='none',linewidth = 4.0)\n",
    "ax.plot(prime_lasttoremain.loc[prime_lasttoremain['date']>=start_date].xs(0,level=\"rollFM\")['date'],prime_lasttoremain.loc[prime_lasttoremain['date']>=start_date].xs(0,level=\"rollFM\")['Lastroll_probab'], c=c[3],ls='-',label='Mortgage',fillstyle='none',linewidth = 4.0)\n",
    "\n",
    "ax.set_xticklabels([str(i) for i in prime_lasttoremain['date'].values], fontsize=15)\n",
    "ax.set_yticklabels([str(i) for i in ax.get_yticks()],fontsize=15)\n",
    "    \n",
    "ax.tick_params(axis='x',colors='black')\n",
    "ax.tick_params(axis='y', colors='black')\n",
    "    \n",
    "plt.xticks(rotation= 30)\n",
    "plt.ylabel('%',fontsize = 16)\n",
    "    \n",
    "plt.legend(loc = \"upper center\", ncol = 4, prop = {'size':16}, bbox_to_anchor = (0.5,1.1), fancybox =True, frameon = False)\n",
    "    \n",
    "ax.xaxis.set_major_locator(mdates.MonthLocator(bymonth=(6)))\n",
    "                               \n",
    "ax.xaxis.set_major_formatter(mdates.DateFormatter(\"%b-%y\"))\n",
    "ax.xaxis.set_minor_formatter(mdates.DateFormatter(\"%b-%y\"))\n",
    "                                 \n",
    "ax.grid(axis='y',linestyle='--',dashes=(5,5))\n",
    "ax.spines['right'].set_visible(False)\n",
    "ax.spines['left'].set_visible(False)\n",
    "ax.spines['top'].set_visible(False)\n",
    "                                 \n",
    "ax.yaxis.set_ticks_position('none')\n",
    "plt.gca().spines['bottom'].set_color('gray')\n",
    "\n",
    "plt.gca().yaxis.set_major_formatter(ticker.StrMethodFormatter('{x:,.0f}'))\n",
    "\n",
    "fig.suptitle('Only Type to Remain Current When Other Categories all Roll into 90+ DQ, Above 720 FICO',fontsize = 18)\n",
    "\n",
    "plt.show()"
   ]
  },
  {
   "cell_type": "code",
   "execution_count": null,
   "id": "131cbba5-4180-4d28-9766-df0f0d4ad027",
   "metadata": {},
   "outputs": [],
   "source": [
    "save_chart(fig,'Prime Last to Remain')"
   ]
  },
  {
   "cell_type": "code",
   "execution_count": null,
   "id": "0c5c6a62-eaa3-4a94-b7b7-d3b45fbcb428",
   "metadata": {},
   "outputs": [],
   "source": []
  }
 ],
 "metadata": {
  "kernelspec": {
   "display_name": "Python 3 (ipykernel)",
   "language": "python",
   "name": "python3"
  },
  "language_info": {
   "codemirror_mode": {
    "name": "ipython",
    "version": 3
   },
   "file_extension": ".py",
   "mimetype": "text/x-python",
   "name": "python",
   "nbconvert_exporter": "python",
   "pygments_lexer": "ipython3",
   "version": "3.9.12"
  }
 },
 "nbformat": 4,
 "nbformat_minor": 5
}
